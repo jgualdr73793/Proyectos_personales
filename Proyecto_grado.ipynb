{
 "cells": [
  {
   "cell_type": "code",
   "execution_count": 4,
   "metadata": {},
   "outputs": [],
   "source": [
    "import cv2\n",
    "import tensorflow as tf\n",
    "from sklearn import datasets, model_selection, metrics\n",
    "import trimesh\n",
    "import open3d as o3d\n",
    "import numpy as np\n",
    "from tensorflow import keras\n",
    "\n"
   ]
  },
  {
   "cell_type": "code",
   "execution_count": 44,
   "metadata": {},
   "outputs": [],
   "source": [
    "import os\n",
    "\n",
    "# Pedir el nombre del objeto\n",
    "object_name = input(\"Introduce el nombre del objeto: \")\n",
    "\n",
    "# Crear la carpeta si no existe\n",
    "if not os.path.exists(object_name):\n",
    "    os.makedirs(object_name)\n",
    "\n",
    "# Iniciar la cámara\n",
    "cap = cv2.VideoCapture(0)\n",
    "\n",
    "image_count = len(os.listdir(object_name))  # Contar el número de imágenes existentes en la carpeta\n",
    "\n",
    "while True:\n",
    "    # Capturar frame por frame\n",
    "    ret, frame = cap.read()\n",
    "    \n",
    "    # Mostrar el frame resultante\n",
    "    cv2.imshow('Frame', frame)\n",
    "    \n",
    "    # Verificar si se presionó la tecla 'e' para guardar las imágenes\n",
    "    if cv2.waitKey(1) & 0xFF == ord('e'):\n",
    "        for i in range(15):  # Tomar 5 fotos\n",
    "            ret, frame = cap.read()\n",
    "            cv2.imwrite(f\"{object_name}/image_{image_count}.jpg\", frame)\n",
    "            image_count += 1\n",
    "    \n",
    "    # Salir con la tecla 'q'\n",
    "    if cv2.waitKey(1) & 0xFF == ord('q'):\n",
    "        break\n",
    "\n",
    "# Liberar la cámara y cerrar todas las ventanas\n",
    "cap.release()\n",
    "cv2.destroyAllWindows()\n"
   ]
  },
  {
   "cell_type": "code",
   "execution_count": null,
   "metadata": {},
   "outputs": [],
   "source": []
  },
  {
   "cell_type": "code",
   "execution_count": null,
   "metadata": {},
   "outputs": [],
   "source": []
  },
  {
   "cell_type": "code",
   "execution_count": null,
   "metadata": {},
   "outputs": [],
   "source": []
  }
 ],
 "metadata": {
  "kernelspec": {
   "display_name": "virtualizacion",
   "language": "python",
   "name": "python3"
  },
  "language_info": {
   "codemirror_mode": {
    "name": "ipython",
    "version": 3
   },
   "file_extension": ".py",
   "mimetype": "text/x-python",
   "name": "python",
   "nbconvert_exporter": "python",
   "pygments_lexer": "ipython3",
   "version": "3.7.8"
  }
 },
 "nbformat": 4,
 "nbformat_minor": 2
}
